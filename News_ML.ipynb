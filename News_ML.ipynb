{
 "cells": [
  {
   "cell_type": "code",
   "execution_count": 23,
   "id": "1c6ee60b",
   "metadata": {},
   "outputs": [],
   "source": [
    "from corus import load_lenta\n",
    "import pandas as pd\n",
    "from sklearn.feature_extraction.text import CountVectorizer\n",
    "from sklearn.model_selection import train_test_split\n",
    "from sklearn.metrics import accuracy_score\n",
    "from sklearn.naive_bayes import MultinomialNB\n",
    "import seaborn as sns\n",
    "import warnings\n",
    "import time\n",
    "warnings.filterwarnings(\"ignore\")"
   ]
  },
  {
   "cell_type": "markdown",
   "id": "532ae730",
   "metadata": {},
   "source": [
    "Курсовая работа по теме \"Предварительный анализ данных и построение признаков в задачах классификации текстов\"\n",
    "    \n",
    "Целью работы является создания эффективной модели классификации новостей по заголовку.\n",
    "\n",
    "Задачи:\n",
    "\n",
    "1.Загрузить датасет\n",
    "\n",
    "2.Создать на основании взятого датасета свой датасет, подходящий для решения задачи и проанализировать его\n",
    "\n",
    "3.Провести обработку текста датасета для его использования в построении модели\n",
    "\n",
    "4.Разбить выборку на тестовую и обучающую\n",
    "\n",
    "5.Обучить модели и сравнить их\n",
    "    \n",
    "Набор данных - датасет новостей с новостного сайта Lenta.ru с 1990 года. В датасете даны: тег новости, заголовок, текст и топик. Для обучения модели тег будет взят как основная переменная, а по заголовоку модель будет классифицировать новость в одну из категорий - политика, общество, спорт, экономика, культура и преступления. Для этого из датасета будут отобраны все теги с подходящей темой (тег \"Финансы компаний\" будет классифицироваться в категорию \"Экономика\" или тег \"Выборы\" в \"Политика\")"
   ]
  },
  {
   "cell_type": "code",
   "execution_count": 13,
   "id": "39263466",
   "metadata": {},
   "outputs": [],
   "source": [
    "records = load_lenta('lenta-ru-news.csv.gz')\n",
    "main_tags = {'Политика':'Политика', 'Выборы':'Политика', 'Общество':'Общество','Зимние виды':'Спорт', 'Хоккей':'Спорт',  'Футбол':'Спорт',\\\n",
    "             'Аналитика рынка':'Экономика', 'Госэкономика':'Экономика', 'Рынки':'Экономика', 'Госрегулирование':'Экономика',\\\n",
    "             'Финансы компаний':'Экономика', 'Книги':'Культура',\\\n",
    "             'Музыка':'Культура',  'Внешний вид':'Культура', 'Стиль':'Культура','Искусство':'Культура', 'Мемы':'Культура',\\\n",
    "             'Кино':'Культура', 'ТВ и радио':'Культура', 'Криминал':'Правосудие', 'Преступность':'Правосудие', 'Полиция и спецслужбы':'Правосудие',\\\n",
    "            'Преступная Россия':'Правосудие', 'Киберпреступность':'Правосудие'}\n",
    "\n",
    "\n",
    "\n",
    "\n",
    "tags, titles = [], []\n",
    "for record in records:\n",
    "    tag = record.tags\n",
    "    if tag in main_tags:\n",
    "        tags += [main_tags[tag]]\n",
    "        titles += [record.title]\n",
    "news = pd.DataFrame({'tag':tags, 'title':titles})"
   ]
  },
  {
   "cell_type": "code",
   "execution_count": 14,
   "id": "906aeb91",
   "metadata": {},
   "outputs": [
    {
     "data": {
      "text/html": [
       "<div>\n",
       "<style scoped>\n",
       "    .dataframe tbody tr th:only-of-type {\n",
       "        vertical-align: middle;\n",
       "    }\n",
       "\n",
       "    .dataframe tbody tr th {\n",
       "        vertical-align: top;\n",
       "    }\n",
       "\n",
       "    .dataframe thead th {\n",
       "        text-align: right;\n",
       "    }\n",
       "</style>\n",
       "<table border=\"1\" class=\"dataframe\">\n",
       "  <thead>\n",
       "    <tr style=\"text-align: right;\">\n",
       "      <th></th>\n",
       "      <th>tag</th>\n",
       "      <th>title</th>\n",
       "    </tr>\n",
       "  </thead>\n",
       "  <tbody>\n",
       "    <tr>\n",
       "      <th>0</th>\n",
       "      <td>Общество</td>\n",
       "      <td>Названы регионы России с самой высокой смертно...</td>\n",
       "    </tr>\n",
       "    <tr>\n",
       "      <th>1</th>\n",
       "      <td>Спорт</td>\n",
       "      <td>Австрия не представила доказательств вины росс...</td>\n",
       "    </tr>\n",
       "    <tr>\n",
       "      <th>2</th>\n",
       "      <td>Политика</td>\n",
       "      <td>В США раскрыли сумму расходов на расследование...</td>\n",
       "    </tr>\n",
       "    <tr>\n",
       "      <th>3</th>\n",
       "      <td>Общество</td>\n",
       "      <td>Хакеры рассказали о планах Великобритании зами...</td>\n",
       "    </tr>\n",
       "    <tr>\n",
       "      <th>4</th>\n",
       "      <td>Общество</td>\n",
       "      <td>Полицейские из Солсбери описали одеревеневшего...</td>\n",
       "    </tr>\n",
       "    <tr>\n",
       "      <th>...</th>\n",
       "      <td>...</td>\n",
       "      <td>...</td>\n",
       "    </tr>\n",
       "    <tr>\n",
       "      <th>125103</th>\n",
       "      <td>Культура</td>\n",
       "      <td>Заложен первый камень Великого Египетского музея</td>\n",
       "    </tr>\n",
       "    <tr>\n",
       "      <th>125104</th>\n",
       "      <td>Правосудие</td>\n",
       "      <td>Выходец из Сомали планировал теракт в Портленде</td>\n",
       "    </tr>\n",
       "    <tr>\n",
       "      <th>125105</th>\n",
       "      <td>Общество</td>\n",
       "      <td>Сеульские власти повысят рождаемость путем орг...</td>\n",
       "    </tr>\n",
       "    <tr>\n",
       "      <th>125106</th>\n",
       "      <td>Правосудие</td>\n",
       "      <td>В убийстве американского радиоведущего признал...</td>\n",
       "    </tr>\n",
       "    <tr>\n",
       "      <th>125107</th>\n",
       "      <td>Культура</td>\n",
       "      <td>Уэсли Снайпса приговорили к трем годам тюрьмы</td>\n",
       "    </tr>\n",
       "  </tbody>\n",
       "</table>\n",
       "<p>125108 rows × 2 columns</p>\n",
       "</div>"
      ],
      "text/plain": [
       "               tag                                              title\n",
       "0         Общество  Названы регионы России с самой высокой смертно...\n",
       "1            Спорт  Австрия не представила доказательств вины росс...\n",
       "2         Политика  В США раскрыли сумму расходов на расследование...\n",
       "3         Общество  Хакеры рассказали о планах Великобритании зами...\n",
       "4         Общество  Полицейские из Солсбери описали одеревеневшего...\n",
       "...            ...                                                ...\n",
       "125103    Культура   Заложен первый камень Великого Египетского музея\n",
       "125104  Правосудие    Выходец из Сомали планировал теракт в Портленде\n",
       "125105    Общество  Сеульские власти повысят рождаемость путем орг...\n",
       "125106  Правосудие  В убийстве американского радиоведущего признал...\n",
       "125107    Культура      Уэсли Снайпса приговорили к трем годам тюрьмы\n",
       "\n",
       "[125108 rows x 2 columns]"
      ]
     },
     "execution_count": 14,
     "metadata": {},
     "output_type": "execute_result"
    }
   ],
   "source": [
    "news"
   ]
  },
  {
   "cell_type": "markdown",
   "id": "cd46329d",
   "metadata": {},
   "source": [
    "Для датасета мы взяли 2 столбца - tag и title. В поле tag содержится тег новости, а в поле title - заголовок статьи. Всего юыло взято 125107 тегов и заголовков"
   ]
  },
  {
   "cell_type": "markdown",
   "id": "8cd54385",
   "metadata": {},
   "source": [
    "Проанализируем полученный датасет на предмет пропусков"
   ]
  },
  {
   "cell_type": "code",
   "execution_count": 15,
   "id": "d7a5d3ee",
   "metadata": {},
   "outputs": [
    {
     "data": {
      "text/plain": [
       "tag      0\n",
       "title    0\n",
       "dtype: int64"
      ]
     },
     "execution_count": 15,
     "metadata": {},
     "output_type": "execute_result"
    }
   ],
   "source": [
    "news.isnull().sum()"
   ]
  },
  {
   "cell_type": "markdown",
   "id": "802fb181",
   "metadata": {},
   "source": [
    "Пропущенные значения отстуствуют"
   ]
  },
  {
   "cell_type": "markdown",
   "id": "f14d24c9",
   "metadata": {},
   "source": [
    "Рассмотрим расперделение новостей по категориям"
   ]
  },
  {
   "cell_type": "code",
   "execution_count": 16,
   "id": "fb4fcdc6",
   "metadata": {
    "scrolled": false
   },
   "outputs": [
    {
     "data": {
      "text/plain": [
       "<Axes: xlabel='tag', ylabel='count'>"
      ]
     },
     "execution_count": 16,
     "metadata": {},
     "output_type": "execute_result"
    },
    {
     "data": {
      "image/png": "[encoded data removed]",
      "text/plain": [
       "<Figure size 640x480 with 1 Axes>"
      ]
     },
     "metadata": {},
     "output_type": "display_data"
    }
   ],
   "source": [
    "sns.countplot(news['tag'])"
   ]
  },
  {
   "cell_type": "markdown",
   "id": "a01bc5aa",
   "metadata": {},
   "source": [
    "Рассмотрев полученное распределение значений можно заметить неравномерное распределение признаков, но оно не критично, поэтому не имеет смысл обрабатывать данные для изменения их соотношения друг к другу"
   ]
  },
  {
   "cell_type": "markdown",
   "id": "35496cd3",
   "metadata": {},
   "source": [
    "Разбиваем текст на слова, удаляет стоп-слова, а затем применяет лемматизацию к каждому слову. Лемматизация - это процесс преобразования слова в его базовую форму"
   ]
  },
  {
   "cell_type": "code",
   "execution_count": 17,
   "id": "9a0bef9c",
   "metadata": {},
   "outputs": [],
   "source": [
    "import nltk\n",
    "from nltk.corpus import stopwords\n",
    "from pymorphy2 import MorphAnalyzer\n"
   ]
  },
  {
   "cell_type": "code",
   "execution_count": 18,
   "id": "a7232e4e",
   "metadata": {},
   "outputs": [
    {
     "data": {
      "text/html": [
       "<div>\n",
       "<style scoped>\n",
       "    .dataframe tbody tr th:only-of-type {\n",
       "        vertical-align: middle;\n",
       "    }\n",
       "\n",
       "    .dataframe tbody tr th {\n",
       "        vertical-align: top;\n",
       "    }\n",
       "\n",
       "    .dataframe thead th {\n",
       "        text-align: right;\n",
       "    }\n",
       "</style>\n",
       "<table border=\"1\" class=\"dataframe\">\n",
       "  <thead>\n",
       "    <tr style=\"text-align: right;\">\n",
       "      <th></th>\n",
       "      <th>tag</th>\n",
       "      <th>title</th>\n",
       "    </tr>\n",
       "  </thead>\n",
       "  <tbody>\n",
       "    <tr>\n",
       "      <th>0</th>\n",
       "      <td>Общество</td>\n",
       "      <td>назвать регион россия сам высокий смертность рак</td>\n",
       "    </tr>\n",
       "    <tr>\n",
       "      <th>1</th>\n",
       "      <td>Спорт</td>\n",
       "      <td>австрия представить доказательство вина россий...</td>\n",
       "    </tr>\n",
       "    <tr>\n",
       "      <th>2</th>\n",
       "      <td>Политика</td>\n",
       "      <td>в сша раскрыть сумма расход расследование « ро...</td>\n",
       "    </tr>\n",
       "    <tr>\n",
       "      <th>3</th>\n",
       "      <td>Общество</td>\n",
       "      <td>хакер рассказать план великобритания заминиров...</td>\n",
       "    </tr>\n",
       "    <tr>\n",
       "      <th>4</th>\n",
       "      <td>Общество</td>\n",
       "      <td>полицейский солсбери описать одеревенеть скрип...</td>\n",
       "    </tr>\n",
       "    <tr>\n",
       "      <th>...</th>\n",
       "      <td>...</td>\n",
       "      <td>...</td>\n",
       "    </tr>\n",
       "    <tr>\n",
       "      <th>125103</th>\n",
       "      <td>Культура</td>\n",
       "      <td>заложить первый камень великий египетский музей</td>\n",
       "    </tr>\n",
       "    <tr>\n",
       "      <th>125104</th>\n",
       "      <td>Правосудие</td>\n",
       "      <td>выходец сомали планировать теракт портленд</td>\n",
       "    </tr>\n",
       "    <tr>\n",
       "      <th>125105</th>\n",
       "      <td>Общество</td>\n",
       "      <td>сеульский власть повысить рождаемость путём ор...</td>\n",
       "    </tr>\n",
       "    <tr>\n",
       "      <th>125106</th>\n",
       "      <td>Правосудие</td>\n",
       "      <td>в убийство американский радиоведущий признатьс...</td>\n",
       "    </tr>\n",
       "    <tr>\n",
       "      <th>125107</th>\n",
       "      <td>Культура</td>\n",
       "      <td>уэсли снайпёс приговорить три год тюрьма</td>\n",
       "    </tr>\n",
       "  </tbody>\n",
       "</table>\n",
       "<p>125108 rows × 2 columns</p>\n",
       "</div>"
      ],
      "text/plain": [
       "               tag                                              title\n",
       "0         Общество   назвать регион россия сам высокий смертность рак\n",
       "1            Спорт  австрия представить доказательство вина россий...\n",
       "2         Политика  в сша раскрыть сумма расход расследование « ро...\n",
       "3         Общество  хакер рассказать план великобритания заминиров...\n",
       "4         Общество  полицейский солсбери описать одеревенеть скрип...\n",
       "...            ...                                                ...\n",
       "125103    Культура    заложить первый камень великий египетский музей\n",
       "125104  Правосудие         выходец сомали планировать теракт портленд\n",
       "125105    Общество  сеульский власть повысить рождаемость путём ор...\n",
       "125106  Правосудие  в убийство американский радиоведущий признатьс...\n",
       "125107    Культура           уэсли снайпёс приговорить три год тюрьма\n",
       "\n",
       "[125108 rows x 2 columns]"
      ]
     },
     "execution_count": 18,
     "metadata": {},
     "output_type": "execute_result"
    }
   ],
   "source": [
    "morph = MorphAnalyzer()\n",
    "stopwords_ru = stopwords.words(\"russian\")\n",
    "\n",
    "def preprocess_text(text):\n",
    "    words = nltk.word_tokenize(text)\n",
    "    words = [morph.parse(word)[0].normal_form for word in words if word not in stopwords_ru]\n",
    "    \n",
    "    return ' '.join(words)\n",
    "\n",
    "news['title'] = news['title'].apply(preprocess_text)\n",
    "news"
   ]
  },
  {
   "cell_type": "markdown",
   "id": "1e0b4cb7",
   "metadata": {},
   "source": [
    "полученные заголовки намного удобнее и эффективнее для обучения модели"
   ]
  },
  {
   "cell_type": "markdown",
   "id": "89b72442",
   "metadata": {},
   "source": [
    "Векторизуем полученные данные для последующего обучения модели"
   ]
  },
  {
   "cell_type": "code",
   "execution_count": 19,
   "id": "c7ab4711",
   "metadata": {},
   "outputs": [],
   "source": [
    "vectorizer = CountVectorizer()\n",
    "X = vectorizer.fit_transform(news['title'])"
   ]
  },
  {
   "cell_type": "markdown",
   "id": "18ee2f5b",
   "metadata": {},
   "source": [
    "Разделим данные на обучающую и тестовую выборки. В данном случае будет использаван метод train_test_split из библиотеки sklearn. Этот метод наиболее удобен, так как нет риска смещения в выборке и нет "
   ]
  },
  {
   "cell_type": "code",
   "execution_count": 20,
   "id": "885ee73d",
   "metadata": {},
   "outputs": [],
   "source": [
    "X_train, X_test, y_train, y_test = train_test_split(X, news['tag'], test_size=0.2, random_state=42)"
   ]
  },
  {
   "cell_type": "markdown",
   "id": "63c81448",
   "metadata": {},
   "source": [
    "Обучим несколько моделей с помощью разных алгоритмов(Логистическая регрессия, Наивный Байесовский классификатор, RandomForest,  Градиентный бустинг) и сравним их"
   ]
  },
  {
   "cell_type": "code",
   "execution_count": 21,
   "id": "101e39a4",
   "metadata": {},
   "outputs": [],
   "source": [
    "import pandas as pd\n",
    "\n",
    "from sklearn import svm\n",
    "from sklearn.ensemble import RandomForestClassifier\n",
    "from sklearn.ensemble import GradientBoostingClassifier\n",
    "from sklearn.linear_model import LogisticRegression\n",
    "\n",
    "names = [\"Логистическая регрессия\", \"Наивный Байесовский классификатор\",\n",
    "         \"RandomForest\",  \"Градиентный бустинг\"]\n",
    "\n",
    "classifiers = [\n",
    "    LogisticRegression(solver='lbfgs', max_iter=1000),\n",
    "    MultinomialNB(),\n",
    "    RandomForestClassifier(),\n",
    "    GradientBoostingClassifier()\n",
    "    ]"
   ]
  },
  {
   "cell_type": "code",
   "execution_count": 24,
   "id": "ae4aeddf",
   "metadata": {},
   "outputs": [
    {
     "name": "stdout",
     "output_type": "stream",
     "text": [
      "Логистическая регрессия ready\n",
      "Наивный Байесовский классификатор ready\n",
      "RandomForest ready\n",
      "Градиентный бустинг ready\n"
     ]
    }
   ],
   "source": [
    "scores = []\n",
    "times = []\n",
    "for name, clf in zip(names, classifiers):\n",
    "    start_time = time.time()\n",
    "    clf.fit(X_train, y_train)\n",
    "    end_time = time.time()\n",
    "    train_time = end_time - start_time\n",
    "    times += [train_time]\n",
    "    score = clf.score(X_test, y_test)\n",
    "    scores.append(score)\n",
    "    print(f'{name} ready')"
   ]
  },
  {
   "cell_type": "code",
   "execution_count": 25,
   "id": "2679da66",
   "metadata": {},
   "outputs": [
    {
     "data": {
      "text/html": [
       "<div>\n",
       "<style scoped>\n",
       "    .dataframe tbody tr th:only-of-type {\n",
       "        vertical-align: middle;\n",
       "    }\n",
       "\n",
       "    .dataframe tbody tr th {\n",
       "        vertical-align: top;\n",
       "    }\n",
       "\n",
       "    .dataframe thead th {\n",
       "        text-align: right;\n",
       "    }\n",
       "</style>\n",
       "<table border=\"1\" class=\"dataframe\">\n",
       "  <thead>\n",
       "    <tr style=\"text-align: right;\">\n",
       "      <th></th>\n",
       "      <th>name</th>\n",
       "      <th>score</th>\n",
       "      <th>time</th>\n",
       "    </tr>\n",
       "  </thead>\n",
       "  <tbody>\n",
       "    <tr>\n",
       "      <th>0</th>\n",
       "      <td>Логистическая регрессия</td>\n",
       "      <td>0.810087</td>\n",
       "      <td>27.170488</td>\n",
       "    </tr>\n",
       "    <tr>\n",
       "      <th>1</th>\n",
       "      <td>Наивный Байесовский классификатор</td>\n",
       "      <td>0.795980</td>\n",
       "      <td>0.216453</td>\n",
       "    </tr>\n",
       "    <tr>\n",
       "      <th>2</th>\n",
       "      <td>RandomForest</td>\n",
       "      <td>0.763448</td>\n",
       "      <td>636.312684</td>\n",
       "    </tr>\n",
       "    <tr>\n",
       "      <th>3</th>\n",
       "      <td>Градиентный бустинг</td>\n",
       "      <td>0.643873</td>\n",
       "      <td>1347.127507</td>\n",
       "    </tr>\n",
       "  </tbody>\n",
       "</table>\n",
       "</div>"
      ],
      "text/plain": [
       "                                name     score         time\n",
       "0            Логистическая регрессия  0.810087    27.170488\n",
       "1  Наивный Байесовский классификатор  0.795980     0.216453\n",
       "2                       RandomForest  0.763448   636.312684\n",
       "3                Градиентный бустинг  0.643873  1347.127507"
      ]
     },
     "execution_count": 25,
     "metadata": {},
     "output_type": "execute_result"
    }
   ],
   "source": [
    "df = pd.DataFrame()\n",
    "df['name'] = names\n",
    "df['score'] = scores\n",
    "df['time'] = times\n",
    "df.sort_values(by=[\"score\"], ascending=False, inplace=True)\n",
    "df"
   ]
  },
  {
   "cell_type": "markdown",
   "id": "9af8c98e",
   "metadata": {},
   "source": [
    "Наиболее эффективными как по времени, так и по метрики оказались две модели - логистическая и Наивная Байесовская. Попробуем улучшить результаты, взяв выборку на 1000 элементов для каждого тега."
   ]
  },
  {
   "cell_type": "code",
   "execution_count": 37,
   "id": "188a1bfd",
   "metadata": {},
   "outputs": [
    {
     "data": {
      "text/html": [
       "<div>\n",
       "<style scoped>\n",
       "    .dataframe tbody tr th:only-of-type {\n",
       "        vertical-align: middle;\n",
       "    }\n",
       "\n",
       "    .dataframe tbody tr th {\n",
       "        vertical-align: top;\n",
       "    }\n",
       "\n",
       "    .dataframe thead th {\n",
       "        text-align: right;\n",
       "    }\n",
       "</style>\n",
       "<table border=\"1\" class=\"dataframe\">\n",
       "  <thead>\n",
       "    <tr style=\"text-align: right;\">\n",
       "      <th></th>\n",
       "      <th>tag</th>\n",
       "      <th>title</th>\n",
       "    </tr>\n",
       "  </thead>\n",
       "  <tbody>\n",
       "    <tr>\n",
       "      <th>77732</th>\n",
       "      <td>Культура</td>\n",
       "      <td>диск элвис пресли возглавить британский хит-па...</td>\n",
       "    </tr>\n",
       "    <tr>\n",
       "      <th>124814</th>\n",
       "      <td>Культура</td>\n",
       "      <td>the strokes анонсировать новый альбом</td>\n",
       "    </tr>\n",
       "    <tr>\n",
       "      <th>18152</th>\n",
       "      <td>Культура</td>\n",
       "      <td>брэд питта попасть авария</td>\n",
       "    </tr>\n",
       "    <tr>\n",
       "      <th>21086</th>\n",
       "      <td>Культура</td>\n",
       "      <td>фото пенис убитый рэпер тупак выставить продажа</td>\n",
       "    </tr>\n",
       "    <tr>\n",
       "      <th>72301</th>\n",
       "      <td>Культура</td>\n",
       "      <td>« би-би-си » показать возможный сценарий конфл...</td>\n",
       "    </tr>\n",
       "    <tr>\n",
       "      <th>...</th>\n",
       "      <td>...</td>\n",
       "      <td>...</td>\n",
       "    </tr>\n",
       "    <tr>\n",
       "      <th>34776</th>\n",
       "      <td>Экономика</td>\n",
       "      <td>два треть россиянин стать экономить продукт</td>\n",
       "    </tr>\n",
       "    <tr>\n",
       "      <th>65468</th>\n",
       "      <td>Экономика</td>\n",
       "      <td>сша пообещать украина миллиард доллар кредитны...</td>\n",
       "    </tr>\n",
       "    <tr>\n",
       "      <th>67822</th>\n",
       "      <td>Экономика</td>\n",
       "      <td>новак допустить строительство газопровод « пос...</td>\n",
       "    </tr>\n",
       "    <tr>\n",
       "      <th>121626</th>\n",
       "      <td>Экономика</td>\n",
       "      <td>слух задержание абрамович опустить акция « нор...</td>\n",
       "    </tr>\n",
       "    <tr>\n",
       "      <th>86528</th>\n",
       "      <td>Экономика</td>\n",
       "      <td>кредитор договориться условие поддержка греция</td>\n",
       "    </tr>\n",
       "  </tbody>\n",
       "</table>\n",
       "<p>6000 rows × 2 columns</p>\n",
       "</div>"
      ],
      "text/plain": [
       "              tag                                              title\n",
       "77732    Культура  диск элвис пресли возглавить британский хит-па...\n",
       "124814   Культура              the strokes анонсировать новый альбом\n",
       "18152    Культура                          брэд питта попасть авария\n",
       "21086    Культура    фото пенис убитый рэпер тупак выставить продажа\n",
       "72301    Культура  « би-би-си » показать возможный сценарий конфл...\n",
       "...           ...                                                ...\n",
       "34776   Экономика        два треть россиянин стать экономить продукт\n",
       "65468   Экономика  сша пообещать украина миллиард доллар кредитны...\n",
       "67822   Экономика  новак допустить строительство газопровод « пос...\n",
       "121626  Экономика  слух задержание абрамович опустить акция « нор...\n",
       "86528   Экономика     кредитор договориться условие поддержка греция\n",
       "\n",
       "[6000 rows x 2 columns]"
      ]
     },
     "execution_count": 37,
     "metadata": {},
     "output_type": "execute_result"
    }
   ],
   "source": [
    "news1 = news.groupby('tag').sample(n=1000, replace=True)\n",
    "news1"
   ]
  },
  {
   "cell_type": "code",
   "execution_count": 45,
   "id": "3f040841",
   "metadata": {},
   "outputs": [],
   "source": [
    "vectorizer = CountVectorizer()\n",
    "X = vectorizer.fit_transform(news1['title'])\n",
    "X_train, X_test, y_train, y_test = train_test_split(X, news1['tag'], test_size=0.2, random_state=42)"
   ]
  },
  {
   "cell_type": "code",
   "execution_count": 46,
   "id": "0705eae4",
   "metadata": {},
   "outputs": [
    {
     "name": "stdout",
     "output_type": "stream",
     "text": [
      "Логистическая регрессия ready\n",
      "Наивный Байесовский классификатор ready\n",
      "RandomForest ready\n",
      "Градиентный бустинг ready\n"
     ]
    }
   ],
   "source": [
    "scores = []\n",
    "times = []\n",
    "for name, clf in zip(names, classifiers):\n",
    "    start_time = time.time()\n",
    "    clf.fit(X_train, y_train)\n",
    "    end_time = time.time()\n",
    "    train_time = end_time - start_time\n",
    "    times += [train_time]\n",
    "    score = clf.score(X_test, y_test)\n",
    "    scores.append(score)\n",
    "    print(f'{name} ready')"
   ]
  },
  {
   "cell_type": "code",
   "execution_count": 47,
   "id": "02e26b46",
   "metadata": {},
   "outputs": [
    {
     "data": {
      "text/html": [
       "<div>\n",
       "<style scoped>\n",
       "    .dataframe tbody tr th:only-of-type {\n",
       "        vertical-align: middle;\n",
       "    }\n",
       "\n",
       "    .dataframe tbody tr th {\n",
       "        vertical-align: top;\n",
       "    }\n",
       "\n",
       "    .dataframe thead th {\n",
       "        text-align: right;\n",
       "    }\n",
       "</style>\n",
       "<table border=\"1\" class=\"dataframe\">\n",
       "  <thead>\n",
       "    <tr style=\"text-align: right;\">\n",
       "      <th></th>\n",
       "      <th>name</th>\n",
       "      <th>score</th>\n",
       "      <th>time</th>\n",
       "    </tr>\n",
       "  </thead>\n",
       "  <tbody>\n",
       "    <tr>\n",
       "      <th>0</th>\n",
       "      <td>Логистическая регрессия</td>\n",
       "      <td>0.715833</td>\n",
       "      <td>1.017745</td>\n",
       "    </tr>\n",
       "    <tr>\n",
       "      <th>1</th>\n",
       "      <td>Наивный Байесовский классификатор</td>\n",
       "      <td>0.695833</td>\n",
       "      <td>0.011000</td>\n",
       "    </tr>\n",
       "    <tr>\n",
       "      <th>2</th>\n",
       "      <td>RandomForest</td>\n",
       "      <td>0.649167</td>\n",
       "      <td>8.906862</td>\n",
       "    </tr>\n",
       "    <tr>\n",
       "      <th>3</th>\n",
       "      <td>Градиентный бустинг</td>\n",
       "      <td>0.626667</td>\n",
       "      <td>26.208369</td>\n",
       "    </tr>\n",
       "  </tbody>\n",
       "</table>\n",
       "</div>"
      ],
      "text/plain": [
       "                                name     score       time\n",
       "0            Логистическая регрессия  0.715833   1.017745\n",
       "1  Наивный Байесовский классификатор  0.695833   0.011000\n",
       "2                       RandomForest  0.649167   8.906862\n",
       "3                Градиентный бустинг  0.626667  26.208369"
      ]
     },
     "execution_count": 47,
     "metadata": {},
     "output_type": "execute_result"
    }
   ],
   "source": [
    "df2 = pd.DataFrame()\n",
    "df2['name'] = names\n",
    "df2['score'] = scores\n",
    "df2['time'] = times\n",
    "df2.sort_values(by=[\"score\"], ascending=False, inplace=True)\n",
    "df2"
   ]
  },
  {
   "cell_type": "markdown",
   "id": "83743e5e",
   "metadata": {},
   "source": [
    "При уменьшении выборки время обучения моделей сильно уменьшилось, но это привело к ухудшению качества модели, что можно понять из ухудшения оценок моделей относительно прошлой версии. Попробуем расширить выборку до 4000 элементов для каждого тега"
   ]
  },
  {
   "cell_type": "code",
   "execution_count": 48,
   "id": "00511ab4",
   "metadata": {},
   "outputs": [
    {
     "data": {
      "text/html": [
       "<div>\n",
       "<style scoped>\n",
       "    .dataframe tbody tr th:only-of-type {\n",
       "        vertical-align: middle;\n",
       "    }\n",
       "\n",
       "    .dataframe tbody tr th {\n",
       "        vertical-align: top;\n",
       "    }\n",
       "\n",
       "    .dataframe thead th {\n",
       "        text-align: right;\n",
       "    }\n",
       "</style>\n",
       "<table border=\"1\" class=\"dataframe\">\n",
       "  <thead>\n",
       "    <tr style=\"text-align: right;\">\n",
       "      <th></th>\n",
       "      <th>tag</th>\n",
       "      <th>title</th>\n",
       "    </tr>\n",
       "  </thead>\n",
       "  <tbody>\n",
       "    <tr>\n",
       "      <th>68403</th>\n",
       "      <td>Культура</td>\n",
       "      <td>актёр « игра престол » перепутать имя меч назв...</td>\n",
       "    </tr>\n",
       "    <tr>\n",
       "      <th>95271</th>\n",
       "      <td>Культура</td>\n",
       "      <td>группа « чайф » предупредить мошеннический кон...</td>\n",
       "    </tr>\n",
       "    <tr>\n",
       "      <th>10627</th>\n",
       "      <td>Культура</td>\n",
       "      <td>звезда « игра престол » пожениться</td>\n",
       "    </tr>\n",
       "    <tr>\n",
       "      <th>123471</th>\n",
       "      <td>Культура</td>\n",
       "      <td>голый жена ник кейв попасть обложка альбом слу...</td>\n",
       "    </tr>\n",
       "    <tr>\n",
       "      <th>82353</th>\n",
       "      <td>Культура</td>\n",
       "      <td>мединский обсудить глава мвд охрана музей полиция</td>\n",
       "    </tr>\n",
       "    <tr>\n",
       "      <th>...</th>\n",
       "      <td>...</td>\n",
       "      <td>...</td>\n",
       "    </tr>\n",
       "    <tr>\n",
       "      <th>116564</th>\n",
       "      <td>Экономика</td>\n",
       "      <td>центробанк снизить официальный курс евро полрубль</td>\n",
       "    </tr>\n",
       "    <tr>\n",
       "      <th>60599</th>\n",
       "      <td>Экономика</td>\n",
       "      <td>дефицит бюджет сша вырасти 27 процент</td>\n",
       "    </tr>\n",
       "    <tr>\n",
       "      <th>112828</th>\n",
       "      <td>Экономика</td>\n",
       "      <td>минэкономразвития предложить заморозить зарпла...</td>\n",
       "    </tr>\n",
       "    <tr>\n",
       "      <th>69805</th>\n",
       "      <td>Экономика</td>\n",
       "      <td>в вэб рассказать беспрецедентный падение доход...</td>\n",
       "    </tr>\n",
       "    <tr>\n",
       "      <th>9118</th>\n",
       "      <td>Экономика</td>\n",
       "      <td>« нафтогаз » заявить готовность пойти мировой ...</td>\n",
       "    </tr>\n",
       "  </tbody>\n",
       "</table>\n",
       "<p>24000 rows × 2 columns</p>\n",
       "</div>"
      ],
      "text/plain": [
       "              tag                                              title\n",
       "68403    Культура  актёр « игра престол » перепутать имя меч назв...\n",
       "95271    Культура  группа « чайф » предупредить мошеннический кон...\n",
       "10627    Культура                 звезда « игра престол » пожениться\n",
       "123471   Культура  голый жена ник кейв попасть обложка альбом слу...\n",
       "82353    Культура  мединский обсудить глава мвд охрана музей полиция\n",
       "...           ...                                                ...\n",
       "116564  Экономика  центробанк снизить официальный курс евро полрубль\n",
       "60599   Экономика              дефицит бюджет сша вырасти 27 процент\n",
       "112828  Экономика  минэкономразвития предложить заморозить зарпла...\n",
       "69805   Экономика  в вэб рассказать беспрецедентный падение доход...\n",
       "9118    Экономика  « нафтогаз » заявить готовность пойти мировой ...\n",
       "\n",
       "[24000 rows x 2 columns]"
      ]
     },
     "execution_count": 48,
     "metadata": {},
     "output_type": "execute_result"
    }
   ],
   "source": [
    "news2 = news.groupby('tag').sample(n=4000, replace=True)\n",
    "news2"
   ]
  },
  {
   "cell_type": "markdown",
   "id": "6aac6d4d",
   "metadata": {},
   "source": [
    "Разделим данные на обучающую и тестовую выборки и обучим модели"
   ]
  },
  {
   "cell_type": "code",
   "execution_count": 49,
   "id": "170c609b",
   "metadata": {},
   "outputs": [],
   "source": [
    "vectorizer = CountVectorizer()\n",
    "X = vectorizer.fit_transform(news2['title'])\n",
    "X_train, X_test, y_train, y_test = train_test_split(X, news2['tag'], test_size=0.2, random_state=42)"
   ]
  },
  {
   "cell_type": "code",
   "execution_count": 50,
   "id": "ea001e5e",
   "metadata": {
    "scrolled": true
   },
   "outputs": [
    {
     "name": "stdout",
     "output_type": "stream",
     "text": [
      "Логистическая регрессия ready\n",
      "Наивный Байесовский классификатор ready\n",
      "RandomForest ready\n",
      "Градиентный бустинг ready\n"
     ]
    }
   ],
   "source": [
    "scores = []\n",
    "times = []\n",
    "for name, clf in zip(names, classifiers):\n",
    "    start_time = time.time()\n",
    "    clf.fit(X_train, y_train)\n",
    "    end_time = time.time()\n",
    "    train_time = end_time - start_time\n",
    "    times += [train_time]\n",
    "    score = clf.score(X_test, y_test)\n",
    "    scores.append(score)\n",
    "    print(f'{name} ready')"
   ]
  },
  {
   "cell_type": "code",
   "execution_count": 51,
   "id": "1d96ac49",
   "metadata": {},
   "outputs": [
    {
     "data": {
      "text/html": [
       "<div>\n",
       "<style scoped>\n",
       "    .dataframe tbody tr th:only-of-type {\n",
       "        vertical-align: middle;\n",
       "    }\n",
       "\n",
       "    .dataframe tbody tr th {\n",
       "        vertical-align: top;\n",
       "    }\n",
       "\n",
       "    .dataframe thead th {\n",
       "        text-align: right;\n",
       "    }\n",
       "</style>\n",
       "<table border=\"1\" class=\"dataframe\">\n",
       "  <thead>\n",
       "    <tr style=\"text-align: right;\">\n",
       "      <th></th>\n",
       "      <th>name</th>\n",
       "      <th>score</th>\n",
       "      <th>time</th>\n",
       "    </tr>\n",
       "  </thead>\n",
       "  <tbody>\n",
       "    <tr>\n",
       "      <th>0</th>\n",
       "      <td>Логистическая регрессия</td>\n",
       "      <td>0.800625</td>\n",
       "      <td>4.696791</td>\n",
       "    </tr>\n",
       "    <tr>\n",
       "      <th>1</th>\n",
       "      <td>Наивный Байесовский классификатор</td>\n",
       "      <td>0.785625</td>\n",
       "      <td>0.038001</td>\n",
       "    </tr>\n",
       "    <tr>\n",
       "      <th>2</th>\n",
       "      <td>RandomForest</td>\n",
       "      <td>0.756875</td>\n",
       "      <td>57.621466</td>\n",
       "    </tr>\n",
       "    <tr>\n",
       "      <th>3</th>\n",
       "      <td>Градиентный бустинг</td>\n",
       "      <td>0.675000</td>\n",
       "      <td>155.471686</td>\n",
       "    </tr>\n",
       "  </tbody>\n",
       "</table>\n",
       "</div>"
      ],
      "text/plain": [
       "                                name     score        time\n",
       "0            Логистическая регрессия  0.800625    4.696791\n",
       "1  Наивный Байесовский классификатор  0.785625    0.038001\n",
       "2                       RandomForest  0.756875   57.621466\n",
       "3                Градиентный бустинг  0.675000  155.471686"
      ]
     },
     "execution_count": 51,
     "metadata": {},
     "output_type": "execute_result"
    }
   ],
   "source": [
    "df3 = pd.DataFrame()\n",
    "df3['name'] = names\n",
    "df3['score'] = scores\n",
    "df3['time'] = times\n",
    "df3.sort_values(by=[\"score\"], ascending=False, inplace=True)\n",
    "df3"
   ]
  },
  {
   "cell_type": "markdown",
   "id": "2ca96bff",
   "metadata": {},
   "source": [
    "Построение выборки на таком количестве элементов позволило построить модели схожей эффективности, при этом время их обучения сократилось в несколько раз. Рассматривая полученные модели можно заметить, что хотя модель Логистической регрессии и показала наилучший результат, но метод Наивного Байеса справилась с это задачей в несколько раз быстрее, при это качество полученной модели лишь немного слабее "
   ]
  },
  {
   "cell_type": "markdown",
   "id": "c022f43b",
   "metadata": {},
   "source": [
    "Результатом исследования показали, что машинное обучение может быть эффективно\n",
    "использовано для классификации текстов, а именно классификации новостей по тегам с помощью заголовков. При этом важно отметить что выбор правильного алгоритма имеет критическое значение для построения корректно и эффективно работующей модели."
   ]
  },
  {
   "cell_type": "code",
   "execution_count": null,
   "id": "3d1fe2c3",
   "metadata": {},
   "outputs": [],
   "source": []
  }
 ],
 "metadata": {
  "kernelspec": {
   "display_name": "Python 3 (ipykernel)",
   "language": "python",
   "name": "python3"
  },
  "language_info": {
   "codemirror_mode": {
    "name": "ipython",
    "version": 3
   },
   "file_extension": ".py",
   "mimetype": "text/x-python",
   "name": "python",
   "nbconvert_exporter": "python",
   "pygments_lexer": "ipython3",
   "version": "3.9.12"
  }
 },
 "nbformat": 4,
 "nbformat_minor": 5
}
